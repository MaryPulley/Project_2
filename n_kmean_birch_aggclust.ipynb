{
 "cells": [
  {
   "cell_type": "code",
   "execution_count": null,
   "metadata": {},
   "outputs": [],
   "source": [
    "# Initial imports.\n",
    "\n",
    "import pandas as pd\n",
    "from sklearn import tree\n",
    "from sklearn.preprocessing import StandardScaler\n",
    "from sklearn.model_selection import train_test_split\n",
    "from sklearn.ensemble import RandomForestClassifier\n",
    "from matplotlib import pyplot as plt\n",
    "import pydotplus\n",
    "from IPython.display import Image\n",
    "from sklearn.preprocessing import LabelEncoder\n",
    "from sklearn.metrics import accuracy_score, classification_report\n",
    "import numpy as np\n",
    "from sklearn.linear_model import LogisticRegression\n",
    "from sklearn.cluster import KMeans, AgglomerativeClustering, Birch\n",
    "import seaborn as sns\n",
    "from statsmodels.tsa.seasonal import seasonal_decompose \n",
    "from statsmodels.tsa.arima.model import ARIMA\n",
    "from statsmodels.graphics.tsaplots import plot_acf, plot_pacf\n",
    "import folium\n",
    "import geopandas as gpd\n",
    "from mpl_toolkits.axes_grid1 import make_axes_locatable\n",
    "from statsmodels.tsa.seasonal import seasonal_decompose\n",
    "from statsmodels.tsa.arima.model import ARIMA"
   ]
  },
  {
   "cell_type": "code",
   "execution_count": null,
   "metadata": {},
   "outputs": [],
   "source": [
    "# Create K-means model.\n",
    "\n",
    "model = KMeans(n_clusters=4, n_init='auto', random_state=42)\n",
    "model.fit(X_scaled_df)\n",
    "kmeans_predictions = model.predict(X_scaled_df)\n",
    "print(kmeans_predictions)"
   ]
  },
  {
   "cell_type": "code",
   "execution_count": null,
   "metadata": {},
   "outputs": [],
   "source": [
    "# Create a copy of the DataFrame\n",
    "clusters_df = birdflu_data_encoded.copy()\n",
    "\n",
    "# Add a column to the DataFrame that contains Clusters.\n",
    "clusters_df['Cluster'] = kmeans_predictions\n",
    "\n",
    "# Review the DataFrame\n",
    "clusters_df.head()"
   ]
  },
  {
   "cell_type": "code",
   "execution_count": null,
   "metadata": {},
   "outputs": [],
   "source": [
    "# Plot the data points.\n",
    "\n",
    "clusters_df.plot.scatter(\n",
    "    x='Flock Size',\n",
    "    y= 'Sampling Method',\n",
    "    c='Cluster',\n",
    "    colormap='winter')"
   ]
  },
  {
   "cell_type": "code",
   "execution_count": null,
   "metadata": {},
   "outputs": [],
   "source": [
    "# Create an empty list to store the inertia values\n",
    "inertia = []\n",
    "\n",
    "# Create a list with the number of k-values to try\n",
    "k = list(range(1, 11))"
   ]
  },
  {
   "cell_type": "code",
   "execution_count": null,
   "metadata": {},
   "outputs": [],
   "source": [
    "# Create a for loop to compute the inertia with each possible value of k and add the values to the inertia list.\n",
    "for i in k:\n",
    "    model = KMeans(n_clusters=i, n_init=10, random_state=42)\n",
    "    model.fit(clusters_df)\n",
    "    inertia.append(model.inertia_)"
   ]
  },
  {
   "cell_type": "code",
   "execution_count": null,
   "metadata": {},
   "outputs": [],
   "source": [
    "# Create a dictionary with the data to plot the elbow curve\n",
    "elbow_data = {\n",
    "    \"k\": k,\n",
    "    \"inertia\": inertia\n",
    "}\n",
    "\n",
    "# Create a DataFrame with the data to plot the elbow curve\n",
    "df_elbow = pd.DataFrame(elbow_data)\n",
    "\n",
    "# Display the DataFrame\n",
    "df_elbow"
   ]
  },
  {
   "cell_type": "code",
   "execution_count": null,
   "metadata": {},
   "outputs": [],
   "source": [
    "# Plot the Elbow curve\n",
    "df_elbow.plot.line(x=\"k\",\n",
    "                   y=\"inertia\",\n",
    "                   title=\"Elbow Curve\",\n",
    "                   xticks=k)\n"
   ]
  },
  {
   "cell_type": "code",
   "execution_count": null,
   "metadata": {},
   "outputs": [],
   "source": [
    "# Determine the rate of decrease between each k value. \n",
    "k = elbow_data[\"k\"]\n",
    "inertia = elbow_data[\"inertia\"]\n",
    "for i in range(1, len(k)):\n",
    "    percentage_decrease = (inertia[i-1] - inertia[i]) / inertia[i-1] * 100\n",
    "    print(f\"Percentage decrease from k={k[i-1]} to k={k[i]}: {percentage_decrease:.2f}%\")"
   ]
  },
  {
   "cell_type": "code",
   "execution_count": null,
   "metadata": {},
   "outputs": [],
   "source": [
    "# Fit a AgglomerativeClustering Model with five clusters\n",
    "agglo_model = AgglomerativeClustering(n_clusters=5)\n",
    "\n",
    "# Make predictions with the AgglomerativeClustering model\n",
    "agglo_predictions = agglo_model.fit_predict(clusters_df)\n",
    "\n",
    "# Previewing the predicted customer classifications for AgglomerativeClustering\n",
    "agglo_predictions[-10:]"
   ]
  },
  {
   "cell_type": "code",
   "execution_count": null,
   "metadata": {},
   "outputs": [],
   "source": [
    "# Fit a Birch Model with five clusters.\n",
    "birch_model = Birch(n_clusters=None)\n",
    "birch_model.fit(clusters_df)\n",
    "\n",
    "# Make predictions with the Birch model\n",
    "birch_predictions = birch_model.labels_\n",
    "\n",
    "# Previewing the predicted customer classifications for BIRCH\n",
    "birch_predictions[-10:]\n",
    "\n",
    "# Look at the results\n",
    "print(\"\\nNumber of points in each cluster:\")\n",
    "print(pd.Series(birch_predictions).value_counts())"
   ]
  },
  {
   "cell_type": "code",
   "execution_count": null,
   "metadata": {},
   "outputs": [],
   "source": [
    "# Create a copy of the preprocessed data\n",
    "cluster_predictions_df = clusters_df.copy()\n",
    "\n",
    "# Add class columns with the labels to the new DataFrame\n",
    "\n",
    "cluster_predictions_df[\"kmeans-segments\"] = kmeans_predictions\n",
    "cluster_predictions_df[\"agglomerative-segments\"] = agglo_predictions\n",
    "cluster_predictions_df[\"birch-segments\"] = birch_predictions\n",
    "cluster_predictions_df[['kmeans-segments','agglomerative-segments', 'birch-segments']].head(3)\n",
    "cluster_predictions_df.head()"
   ]
  },
  {
   "cell_type": "code",
   "execution_count": null,
   "metadata": {},
   "outputs": [],
   "source": [
    "# Plot the kmeans clusters. \n",
    "cluster_predictions_df.plot.scatter(\n",
    "    x='Days Since First Outbreak',\n",
    "    y='HPAI Strain',\n",
    "    c='kmeans-segments',\n",
    "    colormap='viridis')"
   ]
  },
  {
   "cell_type": "code",
   "execution_count": null,
   "metadata": {},
   "outputs": [],
   "source": [
    "# Plot the agglomerative clusters using the limit_bal and age columns. \n",
    "cluster_predictions_df.plot.scatter(\n",
    "    x='Days Since First Outbreak',\n",
    "    y='HPAI Strain',\n",
    "    c='agglomerative-segments',\n",
    "    colormap='viridis')"
   ]
  },
  {
   "cell_type": "code",
   "execution_count": null,
   "metadata": {},
   "outputs": [],
   "source": [
    "# Plot the birch clusters.\n",
    "\n",
    "cluster_predictions_df.plot.scatter(\n",
    "    x='Days Since First Outbreak',\n",
    "    y='HPAI Strain',\n",
    "    c='birch-segments',\n",
    "    colormap='viridis')"
   ]
  },
  {
   "cell_type": "code",
   "execution_count": null,
   "metadata": {},
   "outputs": [],
   "source": [
    "# Create a list to store values and the values of k\n",
    "score_kmeans = []\n",
    "score_agglomerative = []\n",
    "score_birch = []\n",
    "\n",
    "# Create a list to set the range of k values to test\n",
    "k = list(range(2, 11))"
   ]
  },
  {
   "cell_type": "code",
   "execution_count": null,
   "metadata": {},
   "outputs": [],
   "source": [
    "from sklearn import metrics\n",
    "# For each model, we iterate through the different cluster count (`i`). \n",
    "# Then, calculate the variance ratio for each algorithm, given that specified cluster count.\n",
    "\n",
    "for i in k:\n",
    "    # Kmeans variance and score\n",
    "    k_model = KMeans(n_clusters=i, n_init='auto',random_state=0)\n",
    "    k_model.fit(clusters_df)\n",
    "    labels = k_model.labels_\n",
    "    score = metrics.calinski_harabasz_score(clusters_df, labels)    \n",
    "    score_kmeans.append(score)\n",
    "    \n",
    "    # AgglomerativeClustering variance and score\n",
    "    agglo_model = AgglomerativeClustering(n_clusters=i)\n",
    "    labels = agglo_model.fit_predict(clusters_df)\n",
    "    score = metrics.calinski_harabasz_score(clusters_df, labels)    \n",
    "    score_agglomerative.append(score)    \n",
    "    \n",
    "    # Birch variance and score\n",
    "    birch_model = Birch(n_clusters=i)\n",
    "    birch_model.fit(clusters_df)\n",
    "    labels = birch_model.labels_\n",
    "    score = metrics.calinski_harabasz_score(clusters_df, labels)    \n",
    "    score_birch.append(score)"
   ]
  },
  {
   "cell_type": "code",
   "execution_count": null,
   "metadata": {},
   "outputs": [],
   "source": [
    "# Display the scores. \n",
    "display(score_kmeans)\n",
    "display(score_agglomerative)\n",
    "display(score_birch)"
   ]
  }
 ],
 "metadata": {
  "language_info": {
   "name": "python"
  }
 },
 "nbformat": 4,
 "nbformat_minor": 2
}
