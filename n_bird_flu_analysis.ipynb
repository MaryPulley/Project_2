{
 "cells": [
  {
   "cell_type": "code",
   "execution_count": 3,
   "id": "8d31ff8d",
   "metadata": {
    "trusted": false
   },
   "outputs": [],
   "source": [
    "# Import required libraries\n",
    "import pandas as pd\n",
    "import numpy as np\n",
    "import matplotlib.pyplot as plt\n",
    "import seaborn as sns\n",
    "from statsmodels.tsa.seasonal import seasonal_decompose\n",
    "from statsmodels.tsa.stattools import adfuller\n",
    "import pmdarima as pm\n",
    "import folium\n",
    "from folium.plugins import HeatMap\n",
    "import geopandas as gpd\n",
    "import contextily as ctx\n",
    "from shapely.geometry import Point\n",
    "from pathlib import Path"
   ]
  },
  {
   "cell_type": "code",
   "execution_count": null,
   "id": "86735863",
   "metadata": {
    "trusted": false
   },
   "outputs": [
    {
     "ename": "FileNotFoundError",
     "evalue": "[Errno 2] No such file or directory: '/data/hpai_mammals.csv'",
     "output_type": "error",
     "traceback": [
      "\u001b[1;31m---------------------------------------------------------------------------\u001b[0m",
      "\u001b[1;31mFileNotFoundError\u001b[0m                         Traceback (most recent call last)",
      "Cell \u001b[1;32mIn[4], line 2\u001b[0m\n\u001b[0;32m      1\u001b[0m \u001b[38;5;66;03m# Load the datasets.\u001b[39;00m\n\u001b[1;32m----> 2\u001b[0m hpai_mammals \u001b[38;5;241m=\u001b[39m \u001b[43mpd\u001b[49m\u001b[38;5;241;43m.\u001b[39;49m\u001b[43mread_csv\u001b[49m\u001b[43m(\u001b[49m\u001b[38;5;124;43m'\u001b[39;49m\u001b[38;5;124;43m/data/hpai_mammals.csv\u001b[39;49m\u001b[38;5;124;43m'\u001b[39;49m\u001b[43m)\u001b[49m\n\u001b[0;32m      3\u001b[0m hpai_wild_birds \u001b[38;5;241m=\u001b[39m pd\u001b[38;5;241m.\u001b[39mread_csv(\u001b[38;5;124m'\u001b[39m\u001b[38;5;124m./data/hpai_wild_birds.csv\u001b[39m\u001b[38;5;124m'\u001b[39m)\n\u001b[0;32m      4\u001b[0m hpai_livestock \u001b[38;5;241m=\u001b[39m pd\u001b[38;5;241m.\u001b[39mread_csv(\u001b[38;5;124m'\u001b[39m\u001b[38;5;124m./data/hpai_livestock.csv\u001b[39m\u001b[38;5;124m'\u001b[39m)\n",
      "File \u001b[1;32mc:\\Users\\mward\\anaconda3\\envs\\dev\\lib\\site-packages\\pandas\\io\\parsers\\readers.py:1026\u001b[0m, in \u001b[0;36mread_csv\u001b[1;34m(filepath_or_buffer, sep, delimiter, header, names, index_col, usecols, dtype, engine, converters, true_values, false_values, skipinitialspace, skiprows, skipfooter, nrows, na_values, keep_default_na, na_filter, verbose, skip_blank_lines, parse_dates, infer_datetime_format, keep_date_col, date_parser, date_format, dayfirst, cache_dates, iterator, chunksize, compression, thousands, decimal, lineterminator, quotechar, quoting, doublequote, escapechar, comment, encoding, encoding_errors, dialect, on_bad_lines, delim_whitespace, low_memory, memory_map, float_precision, storage_options, dtype_backend)\u001b[0m\n\u001b[0;32m   1013\u001b[0m kwds_defaults \u001b[38;5;241m=\u001b[39m _refine_defaults_read(\n\u001b[0;32m   1014\u001b[0m     dialect,\n\u001b[0;32m   1015\u001b[0m     delimiter,\n\u001b[1;32m   (...)\u001b[0m\n\u001b[0;32m   1022\u001b[0m     dtype_backend\u001b[38;5;241m=\u001b[39mdtype_backend,\n\u001b[0;32m   1023\u001b[0m )\n\u001b[0;32m   1024\u001b[0m kwds\u001b[38;5;241m.\u001b[39mupdate(kwds_defaults)\n\u001b[1;32m-> 1026\u001b[0m \u001b[38;5;28;01mreturn\u001b[39;00m \u001b[43m_read\u001b[49m\u001b[43m(\u001b[49m\u001b[43mfilepath_or_buffer\u001b[49m\u001b[43m,\u001b[49m\u001b[43m \u001b[49m\u001b[43mkwds\u001b[49m\u001b[43m)\u001b[49m\n",
      "File \u001b[1;32mc:\\Users\\mward\\anaconda3\\envs\\dev\\lib\\site-packages\\pandas\\io\\parsers\\readers.py:620\u001b[0m, in \u001b[0;36m_read\u001b[1;34m(filepath_or_buffer, kwds)\u001b[0m\n\u001b[0;32m    617\u001b[0m _validate_names(kwds\u001b[38;5;241m.\u001b[39mget(\u001b[38;5;124m\"\u001b[39m\u001b[38;5;124mnames\u001b[39m\u001b[38;5;124m\"\u001b[39m, \u001b[38;5;28;01mNone\u001b[39;00m))\n\u001b[0;32m    619\u001b[0m \u001b[38;5;66;03m# Create the parser.\u001b[39;00m\n\u001b[1;32m--> 620\u001b[0m parser \u001b[38;5;241m=\u001b[39m TextFileReader(filepath_or_buffer, \u001b[38;5;241m*\u001b[39m\u001b[38;5;241m*\u001b[39mkwds)\n\u001b[0;32m    622\u001b[0m \u001b[38;5;28;01mif\u001b[39;00m chunksize \u001b[38;5;129;01mor\u001b[39;00m iterator:\n\u001b[0;32m    623\u001b[0m     \u001b[38;5;28;01mreturn\u001b[39;00m parser\n",
      "File \u001b[1;32mc:\\Users\\mward\\anaconda3\\envs\\dev\\lib\\site-packages\\pandas\\io\\parsers\\readers.py:1620\u001b[0m, in \u001b[0;36mTextFileReader.__init__\u001b[1;34m(self, f, engine, **kwds)\u001b[0m\n\u001b[0;32m   1617\u001b[0m     \u001b[38;5;28mself\u001b[39m\u001b[38;5;241m.\u001b[39moptions[\u001b[38;5;124m\"\u001b[39m\u001b[38;5;124mhas_index_names\u001b[39m\u001b[38;5;124m\"\u001b[39m] \u001b[38;5;241m=\u001b[39m kwds[\u001b[38;5;124m\"\u001b[39m\u001b[38;5;124mhas_index_names\u001b[39m\u001b[38;5;124m\"\u001b[39m]\n\u001b[0;32m   1619\u001b[0m \u001b[38;5;28mself\u001b[39m\u001b[38;5;241m.\u001b[39mhandles: IOHandles \u001b[38;5;241m|\u001b[39m \u001b[38;5;28;01mNone\u001b[39;00m \u001b[38;5;241m=\u001b[39m \u001b[38;5;28;01mNone\u001b[39;00m\n\u001b[1;32m-> 1620\u001b[0m \u001b[38;5;28mself\u001b[39m\u001b[38;5;241m.\u001b[39m_engine \u001b[38;5;241m=\u001b[39m \u001b[38;5;28;43mself\u001b[39;49m\u001b[38;5;241;43m.\u001b[39;49m\u001b[43m_make_engine\u001b[49m\u001b[43m(\u001b[49m\u001b[43mf\u001b[49m\u001b[43m,\u001b[49m\u001b[43m \u001b[49m\u001b[38;5;28;43mself\u001b[39;49m\u001b[38;5;241;43m.\u001b[39;49m\u001b[43mengine\u001b[49m\u001b[43m)\u001b[49m\n",
      "File \u001b[1;32mc:\\Users\\mward\\anaconda3\\envs\\dev\\lib\\site-packages\\pandas\\io\\parsers\\readers.py:1880\u001b[0m, in \u001b[0;36mTextFileReader._make_engine\u001b[1;34m(self, f, engine)\u001b[0m\n\u001b[0;32m   1878\u001b[0m     \u001b[38;5;28;01mif\u001b[39;00m \u001b[38;5;124m\"\u001b[39m\u001b[38;5;124mb\u001b[39m\u001b[38;5;124m\"\u001b[39m \u001b[38;5;129;01mnot\u001b[39;00m \u001b[38;5;129;01min\u001b[39;00m mode:\n\u001b[0;32m   1879\u001b[0m         mode \u001b[38;5;241m+\u001b[39m\u001b[38;5;241m=\u001b[39m \u001b[38;5;124m\"\u001b[39m\u001b[38;5;124mb\u001b[39m\u001b[38;5;124m\"\u001b[39m\n\u001b[1;32m-> 1880\u001b[0m \u001b[38;5;28mself\u001b[39m\u001b[38;5;241m.\u001b[39mhandles \u001b[38;5;241m=\u001b[39m \u001b[43mget_handle\u001b[49m\u001b[43m(\u001b[49m\n\u001b[0;32m   1881\u001b[0m \u001b[43m    \u001b[49m\u001b[43mf\u001b[49m\u001b[43m,\u001b[49m\n\u001b[0;32m   1882\u001b[0m \u001b[43m    \u001b[49m\u001b[43mmode\u001b[49m\u001b[43m,\u001b[49m\n\u001b[0;32m   1883\u001b[0m \u001b[43m    \u001b[49m\u001b[43mencoding\u001b[49m\u001b[38;5;241;43m=\u001b[39;49m\u001b[38;5;28;43mself\u001b[39;49m\u001b[38;5;241;43m.\u001b[39;49m\u001b[43moptions\u001b[49m\u001b[38;5;241;43m.\u001b[39;49m\u001b[43mget\u001b[49m\u001b[43m(\u001b[49m\u001b[38;5;124;43m\"\u001b[39;49m\u001b[38;5;124;43mencoding\u001b[39;49m\u001b[38;5;124;43m\"\u001b[39;49m\u001b[43m,\u001b[49m\u001b[43m \u001b[49m\u001b[38;5;28;43;01mNone\u001b[39;49;00m\u001b[43m)\u001b[49m\u001b[43m,\u001b[49m\n\u001b[0;32m   1884\u001b[0m \u001b[43m    \u001b[49m\u001b[43mcompression\u001b[49m\u001b[38;5;241;43m=\u001b[39;49m\u001b[38;5;28;43mself\u001b[39;49m\u001b[38;5;241;43m.\u001b[39;49m\u001b[43moptions\u001b[49m\u001b[38;5;241;43m.\u001b[39;49m\u001b[43mget\u001b[49m\u001b[43m(\u001b[49m\u001b[38;5;124;43m\"\u001b[39;49m\u001b[38;5;124;43mcompression\u001b[39;49m\u001b[38;5;124;43m\"\u001b[39;49m\u001b[43m,\u001b[49m\u001b[43m \u001b[49m\u001b[38;5;28;43;01mNone\u001b[39;49;00m\u001b[43m)\u001b[49m\u001b[43m,\u001b[49m\n\u001b[0;32m   1885\u001b[0m \u001b[43m    \u001b[49m\u001b[43mmemory_map\u001b[49m\u001b[38;5;241;43m=\u001b[39;49m\u001b[38;5;28;43mself\u001b[39;49m\u001b[38;5;241;43m.\u001b[39;49m\u001b[43moptions\u001b[49m\u001b[38;5;241;43m.\u001b[39;49m\u001b[43mget\u001b[49m\u001b[43m(\u001b[49m\u001b[38;5;124;43m\"\u001b[39;49m\u001b[38;5;124;43mmemory_map\u001b[39;49m\u001b[38;5;124;43m\"\u001b[39;49m\u001b[43m,\u001b[49m\u001b[43m \u001b[49m\u001b[38;5;28;43;01mFalse\u001b[39;49;00m\u001b[43m)\u001b[49m\u001b[43m,\u001b[49m\n\u001b[0;32m   1886\u001b[0m \u001b[43m    \u001b[49m\u001b[43mis_text\u001b[49m\u001b[38;5;241;43m=\u001b[39;49m\u001b[43mis_text\u001b[49m\u001b[43m,\u001b[49m\n\u001b[0;32m   1887\u001b[0m \u001b[43m    \u001b[49m\u001b[43merrors\u001b[49m\u001b[38;5;241;43m=\u001b[39;49m\u001b[38;5;28;43mself\u001b[39;49m\u001b[38;5;241;43m.\u001b[39;49m\u001b[43moptions\u001b[49m\u001b[38;5;241;43m.\u001b[39;49m\u001b[43mget\u001b[49m\u001b[43m(\u001b[49m\u001b[38;5;124;43m\"\u001b[39;49m\u001b[38;5;124;43mencoding_errors\u001b[39;49m\u001b[38;5;124;43m\"\u001b[39;49m\u001b[43m,\u001b[49m\u001b[43m \u001b[49m\u001b[38;5;124;43m\"\u001b[39;49m\u001b[38;5;124;43mstrict\u001b[39;49m\u001b[38;5;124;43m\"\u001b[39;49m\u001b[43m)\u001b[49m\u001b[43m,\u001b[49m\n\u001b[0;32m   1888\u001b[0m \u001b[43m    \u001b[49m\u001b[43mstorage_options\u001b[49m\u001b[38;5;241;43m=\u001b[39;49m\u001b[38;5;28;43mself\u001b[39;49m\u001b[38;5;241;43m.\u001b[39;49m\u001b[43moptions\u001b[49m\u001b[38;5;241;43m.\u001b[39;49m\u001b[43mget\u001b[49m\u001b[43m(\u001b[49m\u001b[38;5;124;43m\"\u001b[39;49m\u001b[38;5;124;43mstorage_options\u001b[39;49m\u001b[38;5;124;43m\"\u001b[39;49m\u001b[43m,\u001b[49m\u001b[43m \u001b[49m\u001b[38;5;28;43;01mNone\u001b[39;49;00m\u001b[43m)\u001b[49m\u001b[43m,\u001b[49m\n\u001b[0;32m   1889\u001b[0m \u001b[43m\u001b[49m\u001b[43m)\u001b[49m\n\u001b[0;32m   1890\u001b[0m \u001b[38;5;28;01massert\u001b[39;00m \u001b[38;5;28mself\u001b[39m\u001b[38;5;241m.\u001b[39mhandles \u001b[38;5;129;01mis\u001b[39;00m \u001b[38;5;129;01mnot\u001b[39;00m \u001b[38;5;28;01mNone\u001b[39;00m\n\u001b[0;32m   1891\u001b[0m f \u001b[38;5;241m=\u001b[39m \u001b[38;5;28mself\u001b[39m\u001b[38;5;241m.\u001b[39mhandles\u001b[38;5;241m.\u001b[39mhandle\n",
      "File \u001b[1;32mc:\\Users\\mward\\anaconda3\\envs\\dev\\lib\\site-packages\\pandas\\io\\common.py:873\u001b[0m, in \u001b[0;36mget_handle\u001b[1;34m(path_or_buf, mode, encoding, compression, memory_map, is_text, errors, storage_options)\u001b[0m\n\u001b[0;32m    868\u001b[0m \u001b[38;5;28;01melif\u001b[39;00m \u001b[38;5;28misinstance\u001b[39m(handle, \u001b[38;5;28mstr\u001b[39m):\n\u001b[0;32m    869\u001b[0m     \u001b[38;5;66;03m# Check whether the filename is to be opened in binary mode.\u001b[39;00m\n\u001b[0;32m    870\u001b[0m     \u001b[38;5;66;03m# Binary mode does not support 'encoding' and 'newline'.\u001b[39;00m\n\u001b[0;32m    871\u001b[0m     \u001b[38;5;28;01mif\u001b[39;00m ioargs\u001b[38;5;241m.\u001b[39mencoding \u001b[38;5;129;01mand\u001b[39;00m \u001b[38;5;124m\"\u001b[39m\u001b[38;5;124mb\u001b[39m\u001b[38;5;124m\"\u001b[39m \u001b[38;5;129;01mnot\u001b[39;00m \u001b[38;5;129;01min\u001b[39;00m ioargs\u001b[38;5;241m.\u001b[39mmode:\n\u001b[0;32m    872\u001b[0m         \u001b[38;5;66;03m# Encoding\u001b[39;00m\n\u001b[1;32m--> 873\u001b[0m         handle \u001b[38;5;241m=\u001b[39m \u001b[38;5;28;43mopen\u001b[39;49m\u001b[43m(\u001b[49m\n\u001b[0;32m    874\u001b[0m \u001b[43m            \u001b[49m\u001b[43mhandle\u001b[49m\u001b[43m,\u001b[49m\n\u001b[0;32m    875\u001b[0m \u001b[43m            \u001b[49m\u001b[43mioargs\u001b[49m\u001b[38;5;241;43m.\u001b[39;49m\u001b[43mmode\u001b[49m\u001b[43m,\u001b[49m\n\u001b[0;32m    876\u001b[0m \u001b[43m            \u001b[49m\u001b[43mencoding\u001b[49m\u001b[38;5;241;43m=\u001b[39;49m\u001b[43mioargs\u001b[49m\u001b[38;5;241;43m.\u001b[39;49m\u001b[43mencoding\u001b[49m\u001b[43m,\u001b[49m\n\u001b[0;32m    877\u001b[0m \u001b[43m            \u001b[49m\u001b[43merrors\u001b[49m\u001b[38;5;241;43m=\u001b[39;49m\u001b[43merrors\u001b[49m\u001b[43m,\u001b[49m\n\u001b[0;32m    878\u001b[0m \u001b[43m            \u001b[49m\u001b[43mnewline\u001b[49m\u001b[38;5;241;43m=\u001b[39;49m\u001b[38;5;124;43m\"\u001b[39;49m\u001b[38;5;124;43m\"\u001b[39;49m\u001b[43m,\u001b[49m\n\u001b[0;32m    879\u001b[0m \u001b[43m        \u001b[49m\u001b[43m)\u001b[49m\n\u001b[0;32m    880\u001b[0m     \u001b[38;5;28;01melse\u001b[39;00m:\n\u001b[0;32m    881\u001b[0m         \u001b[38;5;66;03m# Binary mode\u001b[39;00m\n\u001b[0;32m    882\u001b[0m         handle \u001b[38;5;241m=\u001b[39m \u001b[38;5;28mopen\u001b[39m(handle, ioargs\u001b[38;5;241m.\u001b[39mmode)\n",
      "\u001b[1;31mFileNotFoundError\u001b[0m: [Errno 2] No such file or directory: '/data/hpai_mammals.csv'"
     ]
    }
   ],
   "source": [
    "# Load the datasets.\n",
    "hpai_mammals = pd.read_csv('./data/hpai_mammals.csv')\n",
    "hpai_wild_birds = pd.read_csv('./data/hpai_wild_birds.csv')\n",
    "hpai_livestock = pd.read_csv('./data/hpai_livestock.csv')\n",
    "hpai_flocks = pd.read_csv('./data/hpai_flocks.csv')\n",
    "\n",
    "# Display basic information about each dataset\n",
    "print(\"Mammals dataset info:\")\n",
    "print(hpai_mammals.info())\n",
    "print(\"Wild birds dataset info:\")\n",
    "print(hpai_wild_birds.info())\n",
    "print(\"Livestock dataset info:\")\n",
    "print(hpai_livestock.info())\n",
    "print(\"Flocks dataset info:\")\n",
    "print(hpai_flocks.info())"
   ]
  },
  {
   "cell_type": "code",
   "execution_count": null,
   "id": "02de7344",
   "metadata": {
    "trusted": false
   },
   "outputs": [
    {
     "ename": "KeyError",
     "evalue": "'State'",
     "output_type": "error",
     "traceback": [
      "\u001b[1;31m---------------------------------------------------------------------------\u001b[0m",
      "\u001b[1;31mKeyError\u001b[0m                                  Traceback (most recent call last)",
      "Cell \u001b[1;32mIn[9], line 12\u001b[0m\n\u001b[0;32m      9\u001b[0m     \u001b[38;5;28;01mreturn\u001b[39;00m df\n\u001b[0;32m     11\u001b[0m \u001b[38;5;66;03m# Clean all datasets\u001b[39;00m\n\u001b[1;32m---> 12\u001b[0m hpai_mammals \u001b[38;5;241m=\u001b[39m \u001b[43mclean_dataset\u001b[49m\u001b[43m(\u001b[49m\u001b[43mhpai_mammals\u001b[49m\u001b[43m)\u001b[49m\n\u001b[0;32m     13\u001b[0m hpai_wild_birds \u001b[38;5;241m=\u001b[39m clean_dataset(hpai_wild_birds)\n\u001b[0;32m     14\u001b[0m hpai_livestock \u001b[38;5;241m=\u001b[39m clean_dataset(hpai_livestock)\n",
      "Cell \u001b[1;32mIn[9], line 5\u001b[0m, in \u001b[0;36mclean_dataset\u001b[1;34m(df)\u001b[0m\n\u001b[0;32m      3\u001b[0m df \u001b[38;5;241m=\u001b[39m df\u001b[38;5;241m.\u001b[39mcopy()\n\u001b[0;32m      4\u001b[0m \u001b[38;5;66;03m# Clean state and county names\u001b[39;00m\n\u001b[1;32m----> 5\u001b[0m df[\u001b[38;5;124m'\u001b[39m\u001b[38;5;124mState\u001b[39m\u001b[38;5;124m'\u001b[39m] \u001b[38;5;241m=\u001b[39m \u001b[43mdf\u001b[49m\u001b[43m[\u001b[49m\u001b[38;5;124;43m'\u001b[39;49m\u001b[38;5;124;43mState\u001b[39;49m\u001b[38;5;124;43m'\u001b[39;49m\u001b[43m]\u001b[49m\u001b[38;5;241m.\u001b[39mstr\u001b[38;5;241m.\u001b[39mstrip()\n\u001b[0;32m      6\u001b[0m df[\u001b[38;5;124m'\u001b[39m\u001b[38;5;124mCounty\u001b[39m\u001b[38;5;124m'\u001b[39m] \u001b[38;5;241m=\u001b[39m df[\u001b[38;5;124m'\u001b[39m\u001b[38;5;124mCounty\u001b[39m\u001b[38;5;124m'\u001b[39m]\u001b[38;5;241m.\u001b[39mstr\u001b[38;5;241m.\u001b[39mstrip()\n\u001b[0;32m      7\u001b[0m \u001b[38;5;66;03m# Convert dates\u001b[39;00m\n",
      "File \u001b[1;32mc:\\Users\\mward\\anaconda3\\envs\\dev\\lib\\site-packages\\pandas\\core\\frame.py:4102\u001b[0m, in \u001b[0;36mDataFrame.__getitem__\u001b[1;34m(self, key)\u001b[0m\n\u001b[0;32m   4100\u001b[0m \u001b[38;5;28;01mif\u001b[39;00m \u001b[38;5;28mself\u001b[39m\u001b[38;5;241m.\u001b[39mcolumns\u001b[38;5;241m.\u001b[39mnlevels \u001b[38;5;241m>\u001b[39m \u001b[38;5;241m1\u001b[39m:\n\u001b[0;32m   4101\u001b[0m     \u001b[38;5;28;01mreturn\u001b[39;00m \u001b[38;5;28mself\u001b[39m\u001b[38;5;241m.\u001b[39m_getitem_multilevel(key)\n\u001b[1;32m-> 4102\u001b[0m indexer \u001b[38;5;241m=\u001b[39m \u001b[38;5;28;43mself\u001b[39;49m\u001b[38;5;241;43m.\u001b[39;49m\u001b[43mcolumns\u001b[49m\u001b[38;5;241;43m.\u001b[39;49m\u001b[43mget_loc\u001b[49m\u001b[43m(\u001b[49m\u001b[43mkey\u001b[49m\u001b[43m)\u001b[49m\n\u001b[0;32m   4103\u001b[0m \u001b[38;5;28;01mif\u001b[39;00m is_integer(indexer):\n\u001b[0;32m   4104\u001b[0m     indexer \u001b[38;5;241m=\u001b[39m [indexer]\n",
      "File \u001b[1;32mc:\\Users\\mward\\anaconda3\\envs\\dev\\lib\\site-packages\\pandas\\core\\indexes\\range.py:417\u001b[0m, in \u001b[0;36mRangeIndex.get_loc\u001b[1;34m(self, key)\u001b[0m\n\u001b[0;32m    415\u001b[0m         \u001b[38;5;28;01mraise\u001b[39;00m \u001b[38;5;167;01mKeyError\u001b[39;00m(key) \u001b[38;5;28;01mfrom\u001b[39;00m \u001b[38;5;21;01merr\u001b[39;00m\n\u001b[0;32m    416\u001b[0m \u001b[38;5;28;01mif\u001b[39;00m \u001b[38;5;28misinstance\u001b[39m(key, Hashable):\n\u001b[1;32m--> 417\u001b[0m     \u001b[38;5;28;01mraise\u001b[39;00m \u001b[38;5;167;01mKeyError\u001b[39;00m(key)\n\u001b[0;32m    418\u001b[0m \u001b[38;5;28mself\u001b[39m\u001b[38;5;241m.\u001b[39m_check_indexing_error(key)\n\u001b[0;32m    419\u001b[0m \u001b[38;5;28;01mraise\u001b[39;00m \u001b[38;5;167;01mKeyError\u001b[39;00m(key)\n",
      "\u001b[1;31mKeyError\u001b[0m: 'State'"
     ]
    }
   ],
   "source": [
    "# Clean and preprocess the data\n",
    "def clean_dataset(df):\n",
    "    df = df.copy()\n",
    "    # Clean state and county names\n",
    "    df['State'] = df['State'].str.strip()\n",
    "    df['County'] = df['County'].str.strip()\n",
    "    # Convert dates\n",
    "    df['Outbreak Date'] = pd.to_datetime(df['Outbreak Date'])\n",
    "    return df\n",
    "\n",
    "# Clean all datasets\n",
    "hpai_mammals = clean_dataset(hpai_mammals)\n",
    "hpai_wild_birds = clean_dataset(hpai_wild_birds)\n",
    "hpai_livestock = clean_dataset(hpai_livestock)\n",
    "hpai_flocks = clean_dataset(hpai_flocks)\n",
    "\n",
    "# Clean the 'Birds Affected' column in hpai_flocks\n",
    "hpai_flocks['Birds Affected'] = pd.to_numeric(hpai_flocks['Birds Affected'], errors='coerce')"
   ]
  },
  {
   "cell_type": "code",
   "execution_count": null,
   "id": "63a8edb6",
   "metadata": {
    "trusted": false
   },
   "outputs": [],
   "source": [
    "# Basic statistics and summary\n",
    "print(\"Summary Statistics:\")\n",
    "print(\"Total cases by category:\")\n",
    "print(\"Mammal cases:\", len(hpai_mammals))\n",
    "print(\"Wild bird cases:\", len(hpai_wild_birds))\n",
    "print(\"Livestock cases:\", len(hpai_livestock))\n",
    "print(\"Flock cases:\", len(hpai_flocks))\n",
    "\n",
    "# Calculate total affected birds in flocks\n",
    "total_birds = hpai_flocks['Birds Affected'].sum()\n",
    "print(\"Total birds affected in flocks:\", format(total_birds, \",.0f\"))\n",
    "\n",
    "# Show date range\n",
    "all_dates = pd.concat([\n",
    "    hpai_mammals['Outbreak Date'],\n",
    "    hpai_wild_birds['Outbreak Date'],\n",
    "    hpai_livestock['Outbreak Date'],\n",
    "    hpai_flocks['Outbreak Date']\n",
    "])\n",
    "\n",
    "print(\"Date range of outbreaks:\")\n",
    "print(\"Earliest:\", all_dates.min())\n",
    "print(\"Latest:\", all_dates.max())"
   ]
  },
  {
   "cell_type": "code",
   "execution_count": null,
   "id": "2be188f2",
   "metadata": {
    "trusted": false
   },
   "outputs": [],
   "source": [
    "# Create time series data\n",
    "def create_daily_cases(df):\n",
    "    return df['Outbreak Date'].value_counts().sort_index()\n",
    "\n",
    "# Combine all cases into one time series\n",
    "mammals_cases = create_daily_cases(hpai_mammals)\n",
    "birds_cases = create_daily_cases(hpai_wild_birds)\n",
    "livestock_cases = create_daily_cases(hpai_livestock)\n",
    "flocks_cases = create_daily_cases(hpai_flocks)\n",
    "\n",
    "# Create a date range covering all dates\n",
    "date_range = pd.date_range(start=all_dates.min(), end=all_dates.max())\n",
    "total_cases = pd.Series(0, index=date_range)\n",
    "\n",
    "# Add cases from each category\n",
    "for cases in [mammals_cases, birds_cases, livestock_cases, flocks_cases]:\n",
    "    total_cases = total_cases.add(cases, fill_value=0)\n",
    "\n",
    "# Save the processed data\n",
    "total_cases.to_csv('processed_outbreak_data.csv', header=True, index=True)"
   ]
  },
  {
   "cell_type": "code",
   "execution_count": null,
   "id": "04801c6e",
   "metadata": {
    "trusted": false
   },
   "outputs": [],
   "source": [
    "# Time series decomposition\n",
    "decomposition = seasonal_decompose(total_cases, period=7)\n",
    "\n",
    "# Plot the decomposition\n",
    "fig, (ax1, ax2, ax3, ax4) = plt.subplots(4, 1, figsize=(15, 12))\n",
    "\n",
    "decomposition.observed.plot(ax=ax1)\n",
    "ax1.set_title('Observed')\n",
    "decomposition.trend.plot(ax=ax2)\n",
    "ax2.set_title('Trend')\n",
    "decomposition.seasonal.plot(ax=ax3)\n",
    "ax3.set_title('Seasonal')\n",
    "decomposition.resid.plot(ax=ax4)\n",
    "ax4.set_title('Residual')\n",
    "\n",
    "plt.tight_layout()\n",
    "plt.show()"
   ]
  },
  {
   "cell_type": "code",
   "execution_count": null,
   "id": "85154e52",
   "metadata": {
    "trusted": false
   },
   "outputs": [],
   "source": [
    "# Perform Augmented Dickey-Fuller test\n",
    "adf_result = adfuller(total_cases.dropna())\n",
    "print('Augmented Dickey-Fuller Test Results:')\n",
    "print('ADF Statistic:', adf_result[0])\n",
    "print('p-value:', adf_result[1])"
   ]
  },
  {
   "cell_type": "code",
   "execution_count": null,
   "id": "e5f0bbb4",
   "metadata": {
    "trusted": false
   },
   "outputs": [],
   "source": [
    "# ARIMA modeling\n",
    "model = pm.auto_arima(total_cases,\n",
    "                     start_p=0, start_q=0, max_p=3, max_q=3,\n",
    "                     m=7,  # Weekly seasonality\n",
    "                     start_P=0, start_Q=0, max_P=2, max_Q=2,\n",
    "                     seasonal=True,\n",
    "                     d=None, D=None, trace=True,\n",
    "                     error_action='ignore',\n",
    "                     suppress_warnings=True,\n",
    "                     stepwise=True)\n",
    "\n",
    "print('Best ARIMA Model:')\n",
    "print(model.summary())"
   ]
  },
  {
   "cell_type": "code",
   "execution_count": null,
   "id": "4fa2c913",
   "metadata": {
    "trusted": false
   },
   "outputs": [],
   "source": [
    "# Forecast future outbreaks\n",
    "forecast_steps = 30  # Forecast for the next 30 days\n",
    "forecast, conf_int = model.predict(n_periods=forecast_steps, return_conf_int=True)\n",
    "\n",
    "# Create a DataFrame for the forecast\n",
    "forecast_index = pd.date_range(start=total_cases.index[-1] + pd.Timedelta(days=1), \n",
    "                             periods=forecast_steps, freq='D')\n",
    "forecast_df = pd.DataFrame({\n",
    "    'Forecast': forecast,\n",
    "    'Lower CI': conf_int[:, 0],\n",
    "    'Upper CI': conf_int[:, 1]\n",
    "}, index=forecast_index)\n",
    "\n",
    "# Plot the forecast\n",
    "plt.figure(figsize=(15, 7))\n",
    "plt.plot(total_cases.index, total_cases, label='Observed', alpha=0.6)\n",
    "plt.plot(forecast_df.index, forecast_df['Forecast'], label='Forecast', color='orange')\n",
    "plt.fill_between(forecast_df.index, \n",
    "                 forecast_df['Lower CI'],\n",
    "                 forecast_df['Upper CI'],\n",
    "                 color='orange', alpha=0.2,\n",
    "                 label='Confidence Interval')\n",
    "plt.title('Bird Flu Outbreak Forecast')\n",
    "plt.xlabel('Date')\n",
    "plt.ylabel('Number of Cases')\n",
    "plt.legend()\n",
    "plt.grid(True)\n",
    "plt.tight_layout()\n",
    "plt.show()\n",
    "\n",
    "# Save the forecast\n",
    "forecast_df.to_csv('bird_flu_forecast.csv')"
   ]
  },
  {
   "cell_type": "code",
   "execution_count": null,
   "id": "fe00ef4e",
   "metadata": {
    "trusted": false
   },
   "outputs": [],
   "source": [
    "# Create interactive map\n",
    "m = folium.Map(location=[39.8283, -98.5795], zoom_start=4)\n",
    "\n",
    "# Add markers for different types of outbreaks\n",
    "def add_outbreak_markers(data, color, group_name):\n",
    "    feature_group = folium.FeatureGroup(name=group_name)\n",
    "    \n",
    "    for _, row in data.iterrows():\n",
    "        folium.CircleMarker(\n",
    "            location=[row['Latitude'], row['Longitude']],\n",
    "            radius=5,\n",
    "            color=color,\n",
    "            fill=True,\n",
    "            popup=f\"{row['State']}, {row['County']}<br>Date: {row['Outbreak Date']}\",\n",
    "        ).add_to(feature_group)\n",
    "    \n",
    "    feature_group.add_to(m)\n",
    "\n",
    "# Add markers for each category\n",
    "add_outbreak_markers(hpai_mammals, 'red', 'Mammals')\n",
    "add_outbreak_markers(hpai_wild_birds, 'blue', 'Wild Birds')\n",
    "add_outbreak_markers(hpai_livestock, 'green', 'Livestock')\n",
    "add_outbreak_markers(hpai_flocks, 'purple', 'Flocks')\n",
    "\n",
    "# Add layer control\n",
    "folium.LayerControl().add_to(m)\n",
    "\n",
    "# Save the map\n",
    "m.save('outbreak_map.html')"
   ]
  },
  {
   "cell_type": "code",
   "execution_count": null,
   "id": "cb745b5c",
   "metadata": {
    "trusted": false
   },
   "outputs": [],
   "source": [
    "# Monthly trend analysis\n",
    "monthly_counts = pd.DataFrame(total_cases.resample('M').sum())\n",
    "monthly_counts.columns = ['Cases']\n",
    "\n",
    "# Plot monthly trends\n",
    "plt.figure(figsize=(15, 7))\n",
    "plt.plot(monthly_counts.index, monthly_counts['Cases'], marker='o')\n",
    "plt.title('Monthly Bird Flu Outbreaks')\n",
    "plt.xlabel('Date')\n",
    "plt.ylabel('Number of Cases')\n",
    "plt.grid(True)\n",
    "plt.xticks(rotation=45)\n",
    "plt.tight_layout()\n",
    "plt.show()\n",
    "\n",
    "# Calculate seasonal statistics\n",
    "monthly_counts['Month'] = monthly_counts.index.month\n",
    "seasonal_pattern = monthly_counts.groupby('Month')['Cases'].mean()\n",
    "\n",
    "print(\"Average cases by month:\")\n",
    "for month, cases in seasonal_pattern.items():\n",
    "    print(f\"Month {month}: {cases:.1f} cases\")"
   ]
  },
  {
   "cell_type": "code",
   "execution_count": null,
   "id": "fdddcbf3",
   "metadata": {
    "trusted": false
   },
   "outputs": [],
   "source": [
    "# State-level analysis\n",
    "state_counts = pd.DataFrame({\n",
    "    'Mammals': hpai_mammals.groupby('State').size(),\n",
    "    'Wild Birds': hpai_wild_birds.groupby('State').size(),\n",
    "    'Livestock': hpai_livestock.groupby('State').size(),\n",
    "    'Flocks': hpai_flocks.groupby('State').size()\n",
    "}).fillna(0)\n",
    "\n",
    "state_counts['Total'] = state_counts.sum(axis=1)\n",
    "\n",
    "# Display top 10 states by total cases\n",
    "print(\"Top 10 states by total cases:\")\n",
    "print(state_counts.sort_values('Total', ascending=False).head(10))\n",
    "\n",
    "# Create a bar plot of top 10 states\n",
    "plt.figure(figsize=(15, 7))\n",
    "top_10_states = state_counts.sort_values('Total', ascending=False).head(10)\n",
    "top_10_states.drop('Total', axis=1).plot(kind='bar', stacked=True)\n",
    "plt.title('Top 10 States by Outbreak Category')\n",
    "plt.xlabel('State')\n",
    "plt.ylabel('Number of Cases')\n",
    "plt.legend(title='Category')\n",
    "plt.xticks(rotation=45)\n",
    "plt.tight_layout()\n",
    "plt.show()"
   ]
  }
 ],
 "metadata": {
  "kernelspec": {
   "display_name": "dev",
   "language": "python",
   "name": "python3"
  },
  "language_info": {
   "codemirror_mode": {
    "name": "ipython",
    "version": 3
   },
   "file_extension": ".py",
   "mimetype": "text/x-python",
   "name": "python",
   "nbconvert_exporter": "python",
   "pygments_lexer": "ipython3",
   "version": "3.10.15"
  }
 },
 "nbformat": 4,
 "nbformat_minor": 5
}
