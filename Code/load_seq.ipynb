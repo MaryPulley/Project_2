{
 "cells": [
  {
   "cell_type": "markdown",
   "metadata": {},
   "source": [
    "# Read FASTA sequence using Nucleotide Accession number"
   ]
  },
  {
   "cell_type": "code",
   "execution_count": null,
   "metadata": {},
   "outputs": [],
   "source": [
    "from Bio import Entrez, SeqIO\n",
    "\n",
    "\n",
    "\n",
    "Entrez.email = \"maadhuvijay@gmail.com\"  \n",
    "\n",
    "nucleotide_list = ['PQ716553', 'PQ716557', 'PQ716563', 'PQ716584', 'PQ716591', 'PQ716597', 'PQ716604', 'PQ716611', 'PQ716617', 'PQ716624', 'PQ716631', 'PQ716637', 'PQ716651', 'PQ716657', 'PQ716677', 'PQ716711', 'PQ716717', 'PQ716731', 'PQ716744', 'PQ716751', 'PQ716757', 'PQ716764', 'PQ716787', 'PQ716793', 'PQ716800', 'PQ716807', 'PQ716820', 'PQ716833', 'PQ716840', 'PQ716847', 'PQ716853', 'PQ716867', 'PQ716873', 'PQ716880', 'PQ716887', 'PQ716893', 'PQ716900', 'PQ716907', 'PQ716913', 'PQ716927', 'PQ716933', 'PQ716940', 'PQ716960', 'PQ716967', 'PQ716973', 'PQ716980', 'PQ716987', 'PQ716993', 'PQ717000', 'PQ717007', 'PQ717027', 'PQ717047', 'PQ717053', 'PQ717060', 'PQ717067', 'PQ717073', 'PQ717087', 'PQ717093', 'PQ717100', 'PQ717107', 'PQ717113', 'PQ717120', 'PQ717133', 'PQ717140', 'PQ717147', 'PQ717153', 'PQ717160', 'PQ717187', 'PQ717193', 'PQ717200', 'PQ717213', 'PQ717220', 'PQ717227', 'PQ717233', 'PQ717240', 'PQ717247', 'PQ717253', 'PQ717260', 'PQ717267', 'PQ717287', 'PQ717300', 'PQ717307', 'PQ717315', 'PQ717329', 'PQ717349', 'PQ717356', 'PQ717383', 'PQ717389', 'PQ717396', 'PQ717403', 'PQ717429', 'PQ717443', 'PQ717449', 'PQ717456', 'PQ717469', 'PQ717483', 'PQ717489', 'PQ717496', 'PQ717509', 'PQ717516', 'PQ717523', 'PQ717529', 'PQ717536', 'PQ717543', 'PQ717549', 'PQ717556', 'PQ717563', 'PQ717569', 'PQ717576', 'PQ717583', 'PQ717589', 'PQ717609', 'PQ717616', 'PQ717629', 'PQ717636', 'PQ717649', 'PQ717663', 'PQ717689', 'PQ717716', 'PQ717769', 'PQ717789', 'PQ717803', 'PQ717809', 'PQ717823', 'PQ717829', 'PQ717849', 'PQ717856', 'PQ717863', 'PQ717869', 'PQ717876', 'PQ717883', 'PQ717889', 'PQ717896', 'PQ717909', 'PQ717916', 'PQ717923', 'PQ717929', 'PQ717936', 'PQ717943', 'PQ717949', 'PQ717976', 'PQ718076', 'PQ718328', 'PQ718335', 'PQ718342', 'PQ718349', 'PQ718356', 'PQ718362', 'PQ718368', 'PQ718375', 'PQ718382', 'PQ718389', 'PQ718396', 'PQ718402', 'PQ718408', 'PQ718415', 'PQ718422', 'PQ718429', 'PQ718436', 'PQ718442', 'PQ718448', 'PQ718455', 'PQ718462', 'PQ718469', 'PQ718476', 'PQ718482', 'PQ718488', 'PQ718502', 'PQ718509', 'PQ718522', 'PQ718528', 'PQ718535', 'PQ718542', 'PQ718549', 'PQ718556', 'PQ718562', 'PQ718575', 'PQ718582', 'PQ718589', 'PQ718615', 'PQ718629', 'PQ718682', 'PQ718702', 'PQ718716', 'PQ718735', 'PQ718775', 'PQ718796', 'PQ718808', 'PQ718815', 'PQ718829', 'PQ718836', 'PQ718862', 'PQ718876', 'PQ718882', 'PQ718888', 'PQ718895', 'PQ718909', 'PQ718922', 'PQ718928', 'PQ718942', 'PQ718956', 'PQ718962', 'PQ718968', 'PQ718989', 'PQ719002', 'PQ719036', 'PQ719128', 'PQ719162', 'PQ719202', 'PQ719208', 'PQ719242', 'PQ719248', 'PQ719262', 'PQ719269', 'PQ719276', 'PQ719282', 'PQ719309', 'PQ719328', 'PQ719349', 'PQ719382', 'PQ719415', 'PQ719422']\n",
    "\n",
    "#Output FASTA file\n",
    "output_fasta= \"sequence1.fasta\"\n",
    "\n",
    "# Fetch sequences from NCBI and save them to FASTA file\n",
    "with open(output_fasta, \"w\") as fasta_file:\n",
    "    for accession in nucleotide_list:\n",
    "        try:\n",
    "            # Fetch sequence from NCBI\n",
    "            handle = Entrez.efetch(db=\"nucleotide\", id=accession, rettype=\"fasta\", retmode=\"text\")\n",
    "            record = handle.read()\n",
    "            fasta_file.write(record + \"\\n\")\n",
    "            print(f\"Fetched: {accession}\")\n",
    "        except Exception as e:\n",
    "            print(f\"Error fetching {accession}: {e}\")\n",
    "\n",
    "print(\"FASTA sequences saved to\", output_fasta)\n",
    "\n",
    "\n",
    "\n",
    "\n",
    "\n",
    "\n"
   ]
  }
 ],
 "metadata": {
  "kernelspec": {
   "display_name": "dev",
   "language": "python",
   "name": "python3"
  },
  "language_info": {
   "codemirror_mode": {
    "name": "ipython",
    "version": 3
   },
   "file_extension": ".py",
   "mimetype": "text/x-python",
   "name": "python",
   "nbconvert_exporter": "python",
   "pygments_lexer": "ipython3",
   "version": "3.10.15"
  }
 },
 "nbformat": 4,
 "nbformat_minor": 2
}
